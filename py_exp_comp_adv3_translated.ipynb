{
 "cells": [
  {
   "cell_type": "markdown",
   "metadata": {},
   "source": [
    "<figure>\n",
    "  <IMG SRC=\"https://raw.githubusercontent.com/mbakker7/exploratory_computing_with_python/master/tudelft_logo.png\" WIDTH=250 ALIGN=\"right\">\n",
    "</figure>\n",
    "\n",
    "# Metode Komputasi Eksplorasi\n",
    "*Oleh Mark Bakker*\n",
    "## Topik Lanjutan Notebook 3: Pemrograman Berorientasi pada Objek"
   ]
  },
  {
   "cell_type": "markdown",
   "metadata": {},
   "source": [
    "Dalam Notebook ini kita akan mempelajari dengan lebih mendetail tentang Python sebagai bahasa pemrograman yang berorientasi pada objek atau *Object Oriented Programming (OOP)*, Kelas-kelas dalam lingkungan Python, serta berbagai agar kita dapat menciptakan objek-objek ini sesuai dengan kebutuhan kita. Selain itu, kita juga akan mempelajari proses untuk membuat grafik menggunakan *OOP* dan paket `matplotlib`."
   ]
  },
  {
   "cell_type": "code",
   "execution_count": 1,
   "metadata": {
    "collapsed": false
   },
   "outputs": [
    {
     "name": "stdout",
     "output_type": "stream",
     "text": [
      "Populating the interactive namespace from numpy and matplotlib\n"
     ]
    }
   ],
   "source": [
    "%pylab inline"
   ]
  },
  {
   "cell_type": "markdown",
   "metadata": {},
   "source": [
    "### Sebuah Kelas bernama `Triangle`\n",
    "\n",
    "Sejauh ini kita telah mempelajari apa yang disebut dengan pemrograman fungsional, di mana anda menulis atau menggunakan fungsi untuk memanipulasi data yang anda miliki. Sebagai contoh, bayangkan anda memiliki sebuah problem yang dilengkapi dengan sejumlah segitiga yang ingin anda pecahkan, sebutlah terdapat $N$ segitga. Anda ingin menghitung luas, membuat plot, dan memberikan warna, untuk masing-masing segitiga ini. Langkah pertama adalah untuk menyimpan nilai $(x,y)$ dari masing-masing titik sudut setiap segitiga yang kita miliki. Untuk itu kita perlu menciptakan array untuk menyimpan nilai koordinat $x$ dari setiap titik sudut dan array lainnya untuk menyimpan nilai koordinat $y$. Selanjutnya, kita perlu mendefinisikan sebuah fungsi untuk menghitung luas segitiga berdasarkan lokasi dari tiga titik sudut yang telah diketahui, fungsi lain untuk membuat plot dari segitiga berdasarkan tiga titik sudut ini, serta satu fungsi lain untuk mengisi ruang di dalam segitiga tersebut dengan warna tertentu. Langkah terakhir adalah memastikan agar fungsi yang telah anda tulis mampu melakukan iterasi sebanyak jumlah titik sudut yang dievaluasi. Semua ini mungkin terdengar rumit namun sebenarnya cukup mudah untuk diikuti. Problem ini akan menjadi lebih sulit ketika kita ingin mengganti koordinat dari salah satu titik sudut segitiga. Untuk dapat melakukan ini, anda harus mengetahui secara pasti lokasi dari nilai koordinat titik sudut yang ingin anda ganti di dalam masing-masing array $x$ dan $y$. \n",
    "\n",
    "Tingkat lanjut dari problem seperti ini adalah dengan menambah jenis geometri yang terlibat, e.g. segitiga dan segiempat, di mana masing-masing jenis geometri memiliki jumlah titik sudut yang spesifik. Fungsi yang dibutuhkan untuk menghitung luas segitiga dan segiempat sangatlah berbeda, sehingga kita harus memastikan bahwa kita memanggil fungsi luas yang tepat untuk masing-masing jenis geometri. Di sisi lain, fungsi untuk membuat plot tidak terlalu berbeda untuk masing-masing geometri, kita hanya perlu memastikan jumlah data yang tepat sebagai input untuk fungsi plot ini, i.e. tiga koordinat titik sudut untuk segitiga dan empat titik sudut untuk segiempat. Bayangkan apabila anda harus mengevaluasi problem yang mencakup berbagai jenis geometri, maka hal ini akan menjadi sangat merepotkan. Bukankan akan lebih mudah apabila kita mampu mengatur sebagaimana mungkin caranya agar fungsi-fungsi yang tepat akan terpanggil sesuai dengan data yang kita miliki? Hal inilah yang menjadi tulang punggung dari Pemrograman Berorientasi pada Objek atau *OOP*.\n",
    "\n",
    "Pemrograman Berorientasi pada Objek atau *OOP* pada dasarnya adalah sebuah alternatif lainnya dalam mengorganisir data-data dan fungsi-fungsi yang kita miliki. Dengan OOP anda mendeklarasikan dan menyimpan data serta fungsi-fungsi yang anda miliki secara bersama-bersama dalam satu objek yang disebut kelas atau Python *class*. Data-data yang anda simpan dalam kelas akan disebut sebagai atribut atau *attributes* dan fungsi akan disebut metode atau *methods*.\n",
    "\n",
    "Agar lebih mudah dipahami mari kita coba menulis sebuah kelas dan memanggil kelas tersebut untuk memecahkan masalah yang kita miliki. Sebutlah, sebuah kelas bernama `Triangle` yang di dalamnya tersimpan koordinat-koordinat dari tiga titik sudut segitiga. Jangan dulu memusingkan sintaks yang harus ditulis (kita akan mendalami ini dalam latihan selanjutnya). Jalankan kode di bawah ini sehingga kita dapat segera menggunakan kelas `Triangle`. "
   ]
  },
  {
   "cell_type": "code",
   "execution_count": 2,
   "metadata": {
    "collapsed": false
   },
   "outputs": [],
   "source": [
    "class Triangle:\n",
    "    def __init__(self, x0y0, x1y1, x2y2):\n",
    "        self.x0y0 = x0y0\n",
    "        self.x1y1 = x1y1\n",
    "        self.x2y2 = x2y2"
   ]
  },
  {
   "cell_type": "markdown",
   "metadata": {},
   "source": [
    "Setelah kelas `Triangle` telah dideklarasikan, kita dapat menggunakan kelas ini untuk menciptakan segitiga-segitiga yang kita inginkan. Jangan lupa untuk menyertakan tiga buah tuple yang masing-masing berisi titik-titik sudut segitiga saat anda akan memanggil kelas `Triangle` ini. Setelah dipanggil, kelas `Triangle` ini akan mengembalikan sebuah objek. Dalam lingkungan Python, objek didefinisikan sebagai sebuah *instance* dari suatu kelas tertentu. Ingat juga bahwa ketika anda mengetik\n",
    "\n",
    "`Triangle(`\n",
    "\n",
    "dalam beberapa detik, sebuah boks kecil akan muncul menunjukkan argumen input yang kiranya dibutuhkan untuk menjalankan kelas ini. Dalam contoh kali ini, anda tidak perlu mendefinisikan argumen `self`. Mari kita coba memanggil fungsi yang terdapat dalam kelas `Triangle` menggunakan tiga koordinat: (0,1), (3,0) and (2,3)."
   ]
  },
  {
   "cell_type": "code",
   "execution_count": 3,
   "metadata": {
    "collapsed": false
   },
   "outputs": [],
   "source": [
    "t1 = Triangle( (0,1), (3,0), (2,3) )"
   ]
  },
  {
   "cell_type": "markdown",
   "metadata": {},
   "source": [
    "Setelah anda menjalankan sel kode di atas, `t1` tersimpan sebagai sebuah *instance* dari kelas `Triangle`. Secara sederhana kita dapat menyebut `t1` sebagai sebuah segitiga. Dalam contoh di atas, kita telah menyimpan data berupa tiga titik sudut dari sebuah segitiga ke dalam kelas `Triangle`, sehingga ke depannya setiap objek yang didefinisikan dalam kelas ini akan memiliki tiga buah atribut. Anda dapat melihat atribut apa saja yang dimiliki oleh sebuah objek dengan mengetik\n",
    "\n",
    "`t1.`\n",
    "\n",
    "Tanda titik atau *dot syntax* yang menyertai objek merupakan karakter yang dibutuhkan untuk mengakses daftar dari atribut yang tersedia untuk objek tersebut. "
   ]
  },
  {
   "cell_type": "code",
   "execution_count": 4,
   "metadata": {
    "collapsed": false
   },
   "outputs": [],
   "source": [
    "print(t1)  # akan mengembalikan informasi yang tidak terlalu penting mengenai objek `t1`\n",
    "print(t1.x0y0)  # Titik sudut pertama\n",
    "print(t1.x1y1)  # Titik sudut ke dua\n",
    "print(t1.x2y2)  # Titik sudut ke tiga"
   ]
  },
  {
   "cell_type": "markdown",
   "metadata": {},
   "source": [
    "Pada saat kita menggunakan kelas `Triangle` (istilah resmi: menciptakan sebuah objek `Triangle` atau menciptakan sebuah *instance* dari kelas `Triangle`), Python akan memanggil fungsi `__init__`. Fungsi inilah yang menciptakan objek yang akan dikembalikan oleh kelas `Triangle`, maka dari itu fungsi ini juga dikenal sebagai fungsi konstruktor. Dalam fungsi konstruktor, anda mendefinisikan argumen apa saja yang dibutuhkan untuk menciptakan sebuah segitiga. Pemberian nama `__init__` terhadap fungsi konstruktor merupakan sebuah keharusan di dalam lingkungan Python (dua tanda garis bawah sebelum dan sesudah kata `init`). Argumen input pertama yang dibutuhkan adalah `self` di mana argumen ini memberi tahu Python bagaimana objek yang ingin diciptakan akan dipanggil, atau nama apa yang akan digunakan untuk memanggil objek ini, di dalam kelas tersebut.\n",
    "\n",
    "Dapat kita lihat dalam contoh di atas, pernyataan `print t1` akan mengembalikan informasi yang tidak berguna bagi kita. Hal ini dapat kita perbaiki dengan cara menyertakan fungsi representasi ke dalam kelas yang kita ciptakan, yang mana harus kita beri nama `__repr__`. Fungsi ini akan terpanggil ketika perintah `print t1` diberikan (atau ketika objek `t1` diubah menjadi sebuah string).Let's get back to the `Triangle` class. When we call the `Triangle` class (official lingo: we create a `Triangle` object, or more officially yet: we create an instance of the `Triangle` class), Python calls the `__init__` function. This function is called the *constructor*. It constructs an object. In the constructor you define what arguments need to be provided to create a triangle. The name `__init__` (that is *two* underscores before and after the word `init`) is required (it is one of the few unfortunate name choices of the Python language). The first argument is `self` and tells Python what the object itself is called inside the class. \n",
    "\n",
    "We saw above that typing `print t1` returns a meaningless message. This can be resolved by including a representation function, which needs to be called `__repr__`. This function is called when the object is printed (or converted to a string)."
   ]
  },
  {
   "cell_type": "code",
   "execution_count": 5,
   "metadata": {
    "collapsed": false
   },
   "outputs": [],
   "source": [
    "class Triangle:\n",
    "    def __init__(self, x0y0, x1y1, x2y2):\n",
    "        self.x0y0 = x0y0\n",
    "        self.x1y1 = x1y1\n",
    "        self.x2y2 = x2y2\n",
    "    def __repr__(self):\n",
    "        return 'Segitiga dengan titik-titik sudut sebagai berikut:'+str(self.x0y0)+str(self.x1y1)+str(self.x2y2)\n",
    "t1 = Triangle( (0,1), (3,0), (2,3) )\n",
    "print(t1)"
   ]
  },
  {
   "cell_type": "markdown",
   "metadata": {},
   "source": [
    "Dalam kelas `Triangle` ini, tiga titik sudut disimpan ke dalam tiga buah *tuple*, sehingga untuk memanggil nilai $x$ dari titik pertama kita perlu mengetik `self.x0y0[0]` dan `self.x0y0[1]` untuk mengetahui nilai $y$ dari titik sudut yang sama. Selain itu, karena kita akan membuat fungsi untuk menghitung luas segitiga maka akan lebih praktikal untuk membuat sebuah array untuk menyimpan ketiga nilai $x$ dan sebuah array lainnya untuk menyimpan ketiga nilai $y$. Apabila keduanya telah tersimpan secara terpisah, maka fungsi luas akan lebih mudah dikonstruksi seperti yang dapat dilihat pada contoh rumus di bawah ini:\n",
    "\n",
    "$A = \\frac{1}{2}|(x_0-x_2)(y_1-y_0) - (x_0-x_1)(y_2-y_0)|$\n",
    "\n",
    "di mana $A$ adalah luas dari segitiga yang sedang kita evaluasi. Dengan menggunakan formula di atas, mari kita modifikasi kelas `Triangle` dengan menambahkan dua atribut ekstra, `x` dan `y`, serta sebuah fungsi untuk menghitung luas, `area`."
   ]
  },
  {
   "cell_type": "code",
   "execution_count": 6,
   "metadata": {
    "collapsed": false
   },
   "outputs": [],
   "source": [
    "class Triangle:\n",
    "    def __init__(self, x0y0, x1y1, x2y2):\n",
    "        self.x0y0 = x0y0\n",
    "        self.x1y1 = x1y1\n",
    "        self.x2y2 = x2y2\n",
    "        self.x = array([ self.x0y0[0], self.x1y1[0], self.x2y2[0] ])\n",
    "        self.y = array([ self.x0y0[1], self.x1y1[1], self.x2y2[1] ])\n",
    "    def __repr__(self):\n",
    "        return 'Segitiga dengan titik-titik sudut sebagai berikut:'+str(self.x0y0)+str(self.x1y1)+str(self.x2y2)\n",
    "    def area(self):\n",
    "        A = 0.5 * abs( (self.x[0]-self.x[2])*(self.y[1]-self.y[0]) - \n",
    "                       (self.x[0]-self.x[1])*(self.y[2]-self.y[0]) )\n",
    "        return A"
   ]
  },
  {
   "cell_type": "markdown",
   "metadata": {},
   "source": [
    "Perhatikan bahwa fungsi `A` menggunakan `self` sebagai argumen input. Dalam contoh di atas, fungsi `A` hanya dapat mengakses seluruh atribut dan fungsi yang terdapat di dalam objek `self` setelah fungsi `A` mempu mengidentifikasi objek `self` itu sendiri. Setelah memodifikasi dan mendeklarasikan kembali kelas `Triangle` di atas maka sekarang kita dapat menciptakan sebuah objek `Triangle` dan menghitung area dari objek ini. Jangan lupa untuk mengaktifkan sel kode di atas sebelum mencoba sel kode di bawah ini untuk mendapatkan kelas `Triangle` yang telah termodifikasi."
   ]
  },
  {
   "cell_type": "code",
   "execution_count": 7,
   "metadata": {
    "collapsed": false
   },
   "outputs": [],
   "source": [
    "t1 = Triangle( (0,1), (3,0), (2,3) )\n",
    "print(t1.area())"
   ]
  },
  {
   "cell_type": "markdown",
   "metadata": {},
   "source": [
    "Dalam contoh kode di atas, fungsi `area` dapat kita panggil menggunakan tanda titik yang menyertai objek `t1`. Memanggil `t1.area()` merupakan kependekan dari `Triangle.area(t1)`."
   ]
  },
  {
   "cell_type": "code",
   "execution_count": 8,
   "metadata": {
    "collapsed": false
   },
   "outputs": [],
   "source": [
    "print(Triangle.area(t1))"
   ]
  },
  {
   "cell_type": "markdown",
   "metadata": {},
   "source": [
    "Perhatikan bahwa keberadaan kelas-kelas dalam lingkungan Python merupakan suatu keuntungan yang signifikan, di mana objek segitiga yang kita ciptakan dapat mengetahui secara otomatis mana sajakah titik sudut yang dia miliki. Ketika kita mengetik `t1.`[TAB], informasi mengenai seluruh atribut dan fungsi yang dimiliki oleh objek tersebut akan ditampilkan. Alternatif cara untuk menampilkan informasi yang sama adalah dengan menggunakan fungsi `dir`."
   ]
  },
  {
   "cell_type": "code",
   "execution_count": 9,
   "metadata": {
    "collapsed": false
   },
   "outputs": [],
   "source": [
    "dir(t1)"
   ]
  },
  {
   "cell_type": "markdown",
   "metadata": {},
   "source": [
    "Mari kita perluas cakupan dari fungsi yang dimiliki kelas `Triangle` dengan menambahkan fungsi untuk menciptakan plot dari segitiga yang kita miliki dan memberikan warna terhadap segitiga tersebut. Warna dari segitiga dapat didefinisikan melalui argumen kata kunci yang kita sertakan ke dalam fungsi konstruktor. Ketika warna tidak disertakan ke dalam argumen input pada saat kita memanggil kelas `Triangle(` maka warna *default* akan digunakan."
   ]
  },
  {
   "cell_type": "code",
   "execution_count": 10,
   "metadata": {
    "collapsed": false
   },
   "outputs": [],
   "source": [
    "class Triangle:\n",
    "    def __init__(self, x0y0, x1y1, x2y2, color='b'):\n",
    "        self.x0y0 = x0y0\n",
    "        self.x1y1 = x1y1\n",
    "        self.x2y2 = x2y2\n",
    "        self.x = array([ self.x0y0[0], self.x1y1[0], self.x2y2[0] ])\n",
    "        self.y = array([ self.x0y0[1], self.x1y1[1], self.x2y2[1] ])\n",
    "        self.color = color\n",
    "    def __repr__(self):\n",
    "        return 'Segitiga dengan titik-titik sudut sebagai berikut:'+str(self.x0y0)+str(self.x1y1)+str(self.x2y2)\n",
    "    def area(self):\n",
    "        A = 0.5 * abs( (self.x[0]-self.x[2])*(self.y[1]-self.y[0]) - \n",
    "                       (self.x[0]-self.x[1])*(self.y[2]-self.y[0]) )\n",
    "        return A\n",
    "    def plot(self):\n",
    "        fill(self.x, self.y, color=self.color)"
   ]
  },
  {
   "cell_type": "markdown",
   "metadata": {},
   "source": [
    "Ketika terdapat lebih dari satu segitiga yang akan kita evaluasi maka kita harus memastikan bahwa fungsi yang kita definisikan di dalam kelas `Triangle` mampu diiterasi sejumlah segitiga yang kita miliki. Sebagai contoh, mari kita ciptakan tiga buah segitiga dan simpan ketiganya ke dalam sebuah daftar atau *list*. Selanjutnya, panggil kelas `Triangle` untuk setiap segitiga yang terdapat dalam *list* tersebut dan plot ketiga segitiga ini dalam satu grafik yang sama. Dalam contoh ini, beri nama *list* atau daftar berisi ketiga segitiga yang kita miliki sebagai `tlist` di mana `t` merepresentasikan tiap-tiap segitiga tersebut. Untuk memberikan perintah iterasi ke dalam kode yang telah kita buat di atas maka tambahkan baris di bawah ini:\n",
    "\n",
    "`for t in tlist:`\n",
    "\n",
    "Sehingga fungsi-fungsi yang terdapat dalam kelas `Triangle` akan diterapkan untuk setiap segitiga `t` yang terdapat dalam `tlist`."
   ]
  },
  {
   "cell_type": "code",
   "execution_count": 11,
   "metadata": {
    "collapsed": false
   },
   "outputs": [],
   "source": [
    "tlist = []  # Mulai dengan tlist yang masih kosong\n",
    "t1 = Triangle( (0,1), (5,0), (3,3), 'b' ) \n",
    "tlist.append(t1)  # Menambahkan segitiga t1 ke dalam tlist\n",
    "t2 = Triangle( (3,4), (1,6), (-2,3), 'r' )\n",
    "tlist.append(t2) # Menambahkan segitiga t2 ke dalam tlist\n",
    "t3 = Triangle( (8,-1), (6,4), (2,6), 'g' )\n",
    "tlist.append(t3) # Menambahkan segitiga t3 ke dalam tlist\n",
    "for t in tlist: # Perintah agar fungsi-fungsi dalam kelas Triangle diterapkan untuk setiap segitiga di dalam tlist\n",
    "    t.plot()\n",
    "plt.axis('scaled') # Perintah agar kedua sumbu pada grafik memiliki skala yang sama"
   ]
  },
  {
   "cell_type": "markdown",
   "metadata": {},
   "source": [
    "Sesuai dengan perintah di atas, total luas dari ketiga segitiga yang terdapat di dalam `tlist` dapat dihitung dengan cara sebagai berikut:"
   ]
  },
  {
   "cell_type": "code",
   "execution_count": 12,
   "metadata": {
    "collapsed": false
   },
   "outputs": [],
   "source": [
    "totarea = 0.0\n",
    "for t in tlist:\n",
    "    totarea += t.area()\n",
    "print('total area: ',totarea)"
   ]
  },
  {
   "cell_type": "markdown",
   "metadata": {},
   "source": [
    "### Latihan 1. <a name=\"back1\"></a>Menciptakan Kelas untuk Lingkaran\n",
    "Buatlah sebuah kelas bernama `Circle` yang menyimpan atribut berupa koordinat dari titik pusat $(x,y)$ dan radius $R$ dari sebuah lingkaran. Kelas ini juga harus memiliki sebuah fungsi untuk menghitung luas, `area`, dan untuk menciptakan plot dari lingkaran yang kita miliki dengan tingkat transparansi dari warna yang digunakan adalah 0.5, `plot`. Gunakan argumen kata kunci `aplha=0.5` untuk menyertai fungsi `fill` untuk mengatur transparansi (silakan menggunakan Notebook 7 untuk melihat bagaimana cara membuat plot dari sebuah lingkaran). Argumen input yang diperlukan untuk menjalankan fungsi `plot` adalah radius berupa $R^*$. Ketika radius dari lingkaran yang kita miliki kurang dari $R^*$ maka gunakan warna biru sebagai warna dari lingkaran dan gunakan warna merah ketika lingkaran yang kita miliki mempunyai radius lebih besar atau sama dengan $R^*$. Silakan gunakan data berupa koordinat dan radius dari 20 lingkaran yang terdapat dalam dokumen `circle_data.txt` sebagai atribut untuk kelas `Circle` yang akan anda ciptakan. Hitung dan tampilkan luas dari keduapuluh lingkaran yang terdapat dalam dokumen tersebut. Buatlah plot dari setiap lingkaran untuk mendemonstrasikan bahwa pengaturan warna bekerja dengan tepat. Gunakan $R^*=1$ sebagai batas ambang."
   ]
  },
  {
   "cell_type": "code",
   "execution_count": 12,
   "metadata": {
    "collapsed": false
   },
   "outputs": [],
   "source": []
  },
  {
   "cell_type": "markdown",
   "metadata": {},
   "source": [
    "<a href=\"#ex1answer\">Kunci Jawaban untuk Latihan 1</a>"
   ]
  },
  {
   "cell_type": "markdown",
   "metadata": {},
   "source": [
    "### Latihan 2. <a name=\"back2\"></a> Aliran menuju beberapa sumur ekstraksi dan injeksi air\n",
    "\n",
    "Bayangkan sebuah sumur ekstraksi dengan *discharge* sebesar $Q$. Sumur ini terdapat pada $(x,y)=(x_w,y_w)$ di dalam sebuah akuifer dengan ketebalan $H$ dan konduktifitas hidrolik $k$. *Head* pada jarak radial $R$ dari sumur tersebut diatur agar berada pada nilai tetap $h_0$. *Head* dari air tanah berkurang secara gradual menuju ke titik di mana sumur itu terletak (e.g., Eq. 11.4 in Verruijt (2012) Soil Mechanics).\n",
    "\n",
    "$h = \\frac{Q}{2\\pi kH} \\ln\\left(\\frac{r}{R}\\right) + h_0$\n",
    "\n",
    "di mana $r$ merupakan jarak radial dari sumur, $r=\\sqrt{(x-x_w)^2+(y-y_w)^2}$. \n",
    "\n",
    "Selanjutnya, bayangkan sebuah sistem lainnya yang terdiri dari $N$ sumur ekstraksi dan injeksi yang terletak di tengah-tengah sebuah area yang cukup besar; jumlah total dari *discharge* dari seluruh sumur-sumur ini sama dengan 0 (i.e. seluruh air yang diekstraksi pada akhirnya akan masuk ke dalam sumur injeksi; contoh ini merupakan kasus yang kerap ditemukan dalam sistem-sistem *pump-and-treat*, sistem pendinginan, *dewatering* pit, etc. ). Perubahan *head* yang disebabkan oleh seluruh sumur secara bersamaan hampir mendekati 0 pada area berupa lingkaran dengan radius $R$. Distribusi dari *head* untuk sebuah sistem yang terdiri dari $N$ sumur dapat ditulis sebagai berikut (e.g., Eq. 11.9 in Verruijt, 2010, Soil Mechanics).\n",
    "\n",
    "$h = \\sum_{n=1}^N \\frac{Q_n}{2\\pi kH} \\ln\\left(\\frac{r_n}{R}\\right)$\n",
    "\n",
    "di mana $Q_n$ merupakan *discharge* dari sumur $n$ (nilai positif untuk sumur ekstraksi) yang berlokasi di titik $(x_n,y_n)$, dengan $r_n=\\sqrt{(x-x_n)^2+(y-y_n)^2}$ sebagai jarak radial dari sumur $n$.\n",
    "\n",
    "Buatlah sebuah kelas dengan nama `Well` yang menyimpan informasi berupa lokasi dari sebuah sumur, *discharge* dari sumur tersebut, radius $R$ dari sebuah area berbentuk lingkaran, dan parameter-parameter akuifer, $k$ and $H$. Kelas `Well` ini hanya memiliki satu fungsi atau metode bernama `head` yang memerlukan argumen input berupa titik koordinat $x,y$ dan mengembalikan nilai yang merepresentasikan kontribusi dari sumur yang kita ketahui terhadap distribusi *head* pada $x,y$ (baris: $Q_n/(2\\pi kH)\\ln(r_n/R)$ merupakan deskripsi matematis dari kalimat ini).\n",
    "\n",
    "Ujilah kelas `Well` yang telah anda buat menggunakan sebuah akuifer dengan $k=2$ m/d, $H=10$ m, $R=1000$ m, dan sebuah sistem dengan tiga buah sumur: 1 buah sumur ekstraksi (*discharge* bernilai positif) dan dua buah sumur injeksi (*discharge* bernilai negatif).\n",
    "\n",
    "* $(x_w,y_w)=(0,0)$, $Q=100$ m$^3$/hari\n",
    "* $(x_w,y_w)=(-20,0)$, $Q=-50$ m$^3$/hari\n",
    "* $(x_w,y_w)=(20,0)$, $Q=-50$ m$^3$/hari\n",
    "\n",
    "Apabila kelas yang anda buat dapat berfungsi secara tepat, *head* pada $(x,y)=(20,5)$ akibat adanya ketiga sumur di atas adalah 0.2968 m. Perhatikan pengaturan tentang pembagian dengan objek integer dan float. Plot variasi dari *head* yang terjadi di sepanjang garis $y=1$ untuk $x$ dari -40 hingga 40."
   ]
  },
  {
   "cell_type": "code",
   "execution_count": 12,
   "metadata": {
    "collapsed": false
   },
   "outputs": [],
   "source": []
  },
  {
   "cell_type": "markdown",
   "metadata": {},
   "source": [
    "<a href=\"#ex2answer\">Kunci Jawaban untuk Latihan 2</a>"
   ]
  },
  {
   "cell_type": "markdown",
   "metadata": {},
   "source": [
    "### Array sebagai objek\n",
    "Kini setelah anda mulai mengenal *OOP*, anda mungkin menyadari bahwa banyak fitur dari Python yang telah anda gunakan sebelumnya merupakan entitas yang dibangun berdasarkan konsep *OOP*. Sebagai contoh, saat anda menciptakan sebuah array maka array tersebut akan diperlakukan sebagai sebuah objek."
   ]
  },
  {
   "cell_type": "code",
   "execution_count": 13,
   "metadata": {
    "collapsed": false
   },
   "outputs": [],
   "source": [
    "x = arange(12)\n",
    "print('tipe dari x: ',type(x))"
   ]
  },
  {
   "cell_type": "markdown",
   "metadata": {},
   "source": [
    "Karena array adalah objek, maka array memiliki atribut dan fungsi dari kelas yang terasosiasi dengan array itu sendiri. Anda dapat mengetik `dir(x)` untuk mengetahui seluruh atribut dan fungsi atau metode yang dimiliki oleh array yang anda ciptakan. Beberapa contoh dari atribut sebuah array adalah keterangan mengenai dimensi dan bentuk. Anda bahkan dapat mengubah bentuk dari sebuah array, selama anda memastikan bahwa jumlah total elemen dari array tersebut tidak berubah, dengan cara mengubah atribut bentuk dari array."
   ]
  },
  {
   "cell_type": "code",
   "execution_count": 14,
   "metadata": {
    "collapsed": false
   },
   "outputs": [],
   "source": [
    "print('jumlah dimensi dari x: ', x.ndim)\n",
    "print('bentuk dari x: ', x.shape)\n",
    "x.shape = (4,3)\n",
    "print('bentuk baru dari x: ', x.shape)\n",
    "print(x)"
   ]
  },
  {
   "cell_type": "markdown",
   "metadata": {},
   "source": [
    "Sebuah array juga memiliki beberapa fungsi terkait, termasuk sebuah fungsi untuk menghitung nilai rerata dari seluruh elemen yang dimiliki array, atau untuk mengembalikan nilai maksimum yang dimiliki oleh array tersebut."
   ]
  },
  {
   "cell_type": "code",
   "execution_count": 15,
   "metadata": {
    "collapsed": false
   },
   "outputs": [],
   "source": [
    "print('nilai rerata dari x: ', x.mean())\n",
    "print('nilai maksimum dari x:  ', x.max())"
   ]
  },
  {
   "cell_type": "markdown",
   "metadata": {},
   "source": [
    "### Fitur-fitur untuk membuat sebuah plot sebagai objek\n",
    "Melihat ke belakang, seluruh perintah yang terkait kegiatan plotting yang telah kita gunakan merupakan bagian dari paket `matplotlib`, maka dari itu tidaklah mengejutkan bahwa `matplotlib` memiliki kemampuan desain yang berorientasi pada objek. Plot dapat diciptakan dengan memanfaatkan struktur desain yang berorientasi pada objek. Menggunakan konsep ini, kita sebagai pengguna diberikan fleksibilitas yang lebih untuk menciptakan berbagai jenis grafik, sayangnya untuk mencapai hal ini kita perlu mengetik lebih banyak baris kode. Pada akhirnya, fleksibilitas yang diberikan di awal dan kemampuan untuk membuat animasi dari data yang kita miliki tidak terlalu menguntungkan.\n",
    "\n",
    "Dengan menggunakan sintaksis yang berorientasi pada objek, atau *OO syntax*, pertama-tama buatlah sebuah objek bernama `figure` beserta ukurannya dengan menggunakan argumen kata kunci berupa `figsize` (ukuran dari objek `figure` ini secara *default* didefinisikan dalam unit inci). Selanjutnya, tambahkan sebuah sumbu ke dalam objek tersebut menggunakan perintah `add_axes` dengan mendefinisikan posisi relatif dari sumbu di dalam objek `figure`. Spesifikasi dari informasi mengenai posisi yang dibutuhkan adalah lokasi dari sisi kiri sumbu, lokasi dari bagian bawah sumbu, lebar, dan tinggi. Nilai dari masing-masing informasi tersebut tidak memiliki unit semenjak posisi yang ditunjukkan adalah relatif terhadap letak hasil plot (gunakan 0-1). Untuk menghasilkan plot, gunakan fungsi `plot` yang disediakan oleh kelas `axis`."
   ]
  },
  {
   "cell_type": "code",
   "execution_count": 16,
   "metadata": {
    "collapsed": false
   },
   "outputs": [],
   "source": [
    "x = linspace(0,2,100)\n",
    "y = x**2\n",
    "fig = figure(figsize=(10,5))\n",
    "ax1 = fig.add_axes([0.1, 0.1, 0.8, 0.8])\n",
    "ax1.plot(x, y, 'b')\n",
    "ax1.set_xlabel('x')\n",
    "ax1.set_ylabel('y')\n",
    "ax1.set_title('Contoh Gambar')"
   ]
  },
  {
   "cell_type": "markdown",
   "metadata": {},
   "source": [
    "Kita dapat menambahkan sumbu sejumlah yang kita inginkan dan juga menentukan di manakah sumbu-sumbu tersebut akan diletakkan di dalam hasil plot."
   ]
  },
  {
   "cell_type": "code",
   "execution_count": 17,
   "metadata": {
    "collapsed": false
   },
   "outputs": [],
   "source": [
    "fig = figure(figsize=(10,5))\n",
    "ax1 = fig.add_axes([0.1, 0.1, 0.8, 0.8])\n",
    "ax1.plot(x, y, 'b')\n",
    "ax1.set_xlabel('x')\n",
    "ax1.set_ylabel('y')\n",
    "ax1.set_title('Contoh Gambar')\n",
    "ax2 = fig.add_axes([0.15,0.5,0.4,0.3])\n",
    "ax2.plot(x,-y,'r')\n",
    "ax2.set_title('Sumbu ke dua')"
   ]
  },
  {
   "cell_type": "markdown",
   "metadata": {},
   "source": [
    "### *Patch-patch* yang tersedia dalam paket Matplotlib\n",
    "\n",
    "Paket `matplotlib` memiliki sekumpulan kelas yang berfungsi untuk mendefinisikan berbagai jenis bentuk geometri yang berbeda (e.g. lingkaran, elipsoidal, poligon, tanda panah, dan lainnya), disebut *patch*. Pada contoh di bawah ini, kita akan belajar bagaimana menggunakan berbagai kelas ini untuk membuat plot seperti yang kita inginkan. Selain itu, kita akan belajar bagaimana cara untuk membuat *patch* ini menjadi lebih interaktif dalam Notebook-notebook berikutnya.\n",
    "\n",
    "Proses yang dibutuhkan untuk menambahkan sebuah *patch* ke dalam sebuah grafik merupakan proses yang seragam dari satu kasus ke kasus lainnya. Langkah pertama yang dibutuhkan adalah menciptakan sebuah sumbu, diikuti dengan sebuah objek *patch* yang selanjutnya akan kita gabungkan ke dalam sumbu yang telah kita buat dalam langkah pertama. Setiap objek *patch* memerlukan beberapa argumen input dan kata kunci. Argumen kata kunci yang dibutuhkan adalah: `ec` untuk *edge color*, `fc` untuk face color, `alpha` untuk menentukan tingkat transparansi (0-1), dan `zorder` untuk menentukan urutan dari objek yang akan diplot dalam gambar yang akan kita hasilkan di mana objek dengan `zorder` tertinggi akan diletakkan di lokasi paling atas. Nama dari setiap kelas *patch* harus dimulai dengan huruf kapital: `Circle`, `Ellipse`, `Polygon`, `Wedge`, dan `Arrow`. Anda perlu mengimpor kelas-kelas ini dari paket `matplotlib.patches` di awal kode anda. Gunakan bantuan yang disediakan untuk mengetahui informasi yang lebih mendetail mengenai argumen yang dibutuhkan untuk menjalankan kelas-kelas dalam `matplotlib.patches`.\n",
    "\n",
    "Perhatikan grafik di bawah ini, terdapat dua buah lingkaran di mana lingkaran yang lebih kecil terletak di atas lingkaran dengan radius yang lebih besar. Warna dasar pada grafik ini diatur agar sama dengan warna yang digunakan untuk mengisi lingkaran yang lebih kecil sehingga menimbulkan kesan bahwa lingkaran yang lebih besar memiliki sebuah lubang. Pengaturan untuk variabel aspek dibuat `'equal'` saat sumbu diciptakan untuk memastikan bahwa kedua sumbu dari grafik memiliki skala yang sama. Fungsi `autoscale` digunakan untuk mengatur batas-batas dari kedua sumbu pada grafik untuk memastikan bahwa objek *patch* yang diciptakan terdapat tepat di dalam kedua sumbu tersebut. Alternatif yang dapat digunakan adalah dengan mengatur nilai maksimum dari masing-masing sumbu secara manual menggunakan perintah `ax.set_xlim` dan `ax.set_ylim`."
   ]
  },
  {
   "cell_type": "code",
   "execution_count": 18,
   "metadata": {
    "collapsed": false
   },
   "outputs": [],
   "source": [
    "from matplotlib.patches import Circle\n",
    "fig = plt.figure()\n",
    "ax = fig.add_axes([.1,.1,.8,.8], axisbg='violet', aspect='equal')\n",
    "kecil = Circle(xy=(3,5),radius=1,fc='violet',ec='violet',zorder=2)\n",
    "besar = Circle(xy=(2,4),radius=3,fc='dodgerblue',ec='dodgerblue',zorder=1)\n",
    "ax.add_patch(kecil)\n",
    "ax.add_patch(besar)\n",
    "ax.autoscale()"
   ]
  },
  {
   "cell_type": "markdown",
   "metadata": {},
   "source": [
    "### Latihan 3. <a name=\"back3\"></a> *Patch-patch* yang tersedia di dalam matplotlib\n",
    "Tulislah sebuah kode Python untuk membuat sebuah figur seperti yang ditunjukkan oleh gambar di bawah ini menggunakan kumpulan *patch* yang tersedia di dalam paket `matplotlib.patches`. Gunakan pilihan warna anda sendiri. Tambahkan teks berupa keterangan dari bentuk geometri yang ditampilkan dalam gambar di bawah ini menggunakan fungsi `ax.text`.\n",
    "\n",
    "<img src=\"http://i.imgur.com/ObuPLD7.png\" alt=\"Patches\" width=800pt>"
   ]
  },
  {
   "cell_type": "code",
   "execution_count": 18,
   "metadata": {
    "collapsed": false
   },
   "outputs": [],
   "source": []
  },
  {
   "cell_type": "markdown",
   "metadata": {},
   "source": [
    "<a href=\"#ex3answer\">Kunci Jawaban untuk Latihan 3</a>"
   ]
  },
  {
   "cell_type": "markdown",
   "metadata": {},
   "source": [
    "### Kunci Jawaban"
   ]
  },
  {
   "cell_type": "markdown",
   "metadata": {},
   "source": [
    "<a name=\"ex1answer\">Kunci Jawaban untuk Latihan 1</a>"
   ]
  },
  {
   "cell_type": "code",
   "execution_count": 19,
   "metadata": {
    "collapsed": false
   },
   "outputs": [],
   "source": [
    "class Circle:\n",
    "    def __init__(self,x0,y0,R):\n",
    "        self.x0 = x0\n",
    "        self.y0 = y0\n",
    "        self.R = R\n",
    "    def area(self):\n",
    "        A = pi * self.R**2\n",
    "        return A\n",
    "    def plot(self,Rstar):\n",
    "        if self.R < Rstar:\n",
    "            color = 'b'\n",
    "        else:\n",
    "            color = 'r'\n",
    "        alpha = linspace(0,2*pi,100)\n",
    "        fill( self.x0 + self.R*cos(alpha), self.y0 + self.R*sin(alpha), color=color, alpha=0.5)\n",
    "\n",
    "data = loadtxt('circle_data.txt')\n",
    "clist = []\n",
    "for i in range(20):\n",
    "    c = Circle(data[i,0], data[i,1], data[i,2])\n",
    "    clist.append(c)\n",
    "areatot = 0.0\n",
    "for c in clist:\n",
    "    areatot += c.area()\n",
    "    c.plot(1.0)\n",
    "axis('scaled')\n",
    "print('total area: ',areatot)"
   ]
  },
  {
   "cell_type": "markdown",
   "metadata": {},
   "source": [
    "<a href=\"#back1\">Kembali ke Latihan 1</a>\n",
    "\n",
    "<a name=\"ex2answer\">Kunci Jawaban untuk Latihan 2</a>"
   ]
  },
  {
   "cell_type": "code",
   "execution_count": 20,
   "metadata": {
    "collapsed": false
   },
   "outputs": [],
   "source": [
    "class Well:\n",
    "    def __init__(self,xw,yw,Q,k,H,R):\n",
    "        self.xw = xw\n",
    "        self.yw = yw\n",
    "        self.Q = Q\n",
    "        self.k = k\n",
    "        self.H = H\n",
    "        self.R = R\n",
    "    def head(self,x,y):\n",
    "        r = sqrt( (x-self.xw)**2 + (y-self.yw)**2 )\n",
    "        h = self.Q / (2*pi*self.k*self.H) * log( r / self.R )\n",
    "        return h\n",
    "    \n",
    "w1 = Well(0,0,100,2,10,1000)\n",
    "w2 = Well(-20,0,-50,2,10,1000)\n",
    "w3 = Well(20,0,-50,2,10,1000)\n",
    "wells = [w1,w2,w3]\n",
    "\n",
    "h = 0.0\n",
    "for w in wells:\n",
    "    h += w.head(20,5)\n",
    "print('head pada (20,5) adalah', h)\n",
    "\n",
    "x = linspace(-40,40,101)\n",
    "h = zeros_like(x)\n",
    "for w in wells:\n",
    "    h += w.head(x,1)\n",
    "plot(x,h)\n",
    "xlabel('x')\n",
    "ylabel('head di sepanjang y=1')"
   ]
  },
  {
   "cell_type": "markdown",
   "metadata": {},
   "source": [
    "<a href=\"#back2\">Kembali ke Latihan 2</a>\n",
    "\n",
    "<a name=\"ex3answer\">Kunci Jawaban untuk Latihan 3</a>"
   ]
  },
  {
   "cell_type": "code",
   "execution_count": 21,
   "metadata": {
    "collapsed": false
   },
   "outputs": [],
   "source": [
    "from matplotlib.patches import Circle, Ellipse, Polygon, Arrow, Wedge\n",
    "fig = plt.figure(figsize=(10,5))\n",
    "ax = fig.add_axes([.1,.1,.8,.8],aspect='equal')\n",
    "c1 = Circle(xy=(0,0),radius=2,fc='dodgerblue')\n",
    "ax.add_patch(c1)\n",
    "a1 = Arrow(x=2,y=0,dx=2,dy=0,fc='r')\n",
    "ax.add_patch(a1)\n",
    "e1 = Ellipse(xy=(8,0),width=8,height=4,fc='b')\n",
    "ax.add_patch(e1)\n",
    "a2 = Arrow(x=0,y=2,dx=0,dy=2,fc='r')\n",
    "ax.add_patch(a2)\n",
    "w1 = Wedge(center=(0,6),r=2,theta1=45,theta2=0,fc='b')\n",
    "ax.add_patch(w1)\n",
    "a3 = Arrow(x=-2,y=0,dx=-2,dy=0,fc='r')\n",
    "ax.add_patch(a3)\n",
    "p1 = Polygon(xy=[(-4,0),(-6,2),(-8,1.5),(-10,0),(-10,-1.5),(-7,-2)],fc='b')\n",
    "ax.add_patch(p1)\n",
    "ax.set_xlim(-10,12)\n",
    "ax.set_xticks(np.arange(-10,13))\n",
    "ax.set_ylim(-2,8)\n",
    "ax.set_yticks(np.arange(-2,9,1))\n",
    "ax.text(0,0,'lingkaran',ha='center')\n",
    "ax.text(8,0,'elips',ha='center')\n",
    "ax.text(-7,0,'poligon',ha='center')\n",
    "ax.text(0,5,'wedge',ha='center')"
   ]
  },
  {
   "cell_type": "markdown",
   "metadata": {},
   "source": [
    "<a href=\"#back3\">Kembali ke Latihan 3</a>"
   ]
  }
 ],
 "metadata": {
  "kernelspec": {
   "display_name": "Python 3",
   "language": "python",
   "name": "python3"
  },
  "language_info": {
   "codemirror_mode": {
    "name": "ipython",
    "version": 3
   },
   "file_extension": ".py",
   "mimetype": "text/x-python",
   "name": "python",
   "nbconvert_exporter": "python",
   "pygments_lexer": "ipython3"
  }
 },
 "nbformat": 4,
 "nbformat_minor": 0
}
